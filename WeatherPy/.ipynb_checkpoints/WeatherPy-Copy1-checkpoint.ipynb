{
 "cells": [
  {
   "cell_type": "markdown",
   "metadata": {},
   "source": [
    "# WeatherPy\n",
    "----\n",
    "\n",
    "#### Note\n",
    "* Instructions have been included for each segment. You do not have to follow them exactly, but they are included to help you think through the steps."
   ]
  },
  {
   "cell_type": "code",
   "execution_count": 132,
   "metadata": {
    "scrolled": true
   },
   "outputs": [],
   "source": [
    "# Dependencies\n",
    "import json\n",
    "import requests\n",
    "import numpy as np\n",
    "import pandas as pd\n",
    "import matplotlib.pyplot as plt\n",
    "from scipy.stats import linregress\n",
    "from sklearn import datasets\n",
    "\n",
    "# Import API key\n",
    "from api_keys import weather_api_key\n",
    "# import citipy\n",
    "from citipy import citipy\n",
    "\n",
    "# from api_keys import api_key\n",
    "\n",
    "# output file (CSV)\n",
    "# output_file = \"output_data/cities.csv\"\n",
    "\n",
    "# range of latitues and Longitudes for random\n",
    "lat_range = (-90, 90)\n",
    "long_range = (-180, 180)\n",
    "# create random latitudes and Longitude: change size to only 25 for testing\n",
    "random_lats = np.random.uniform(lat_range[0], lat_range[1], size=40)\n",
    "random_longs = np.random.uniform(long_range[0], long_range[1], size=40)\n",
    "# zip the list together\n",
    "zipped_lat_longs = zip(random_lats, random_longs)\n",
    "lats_longs_list = list(zipped_lat_longs)\n"
   ]
  },
  {
   "cell_type": "code",
   "execution_count": 133,
   "metadata": {},
   "outputs": [
    {
     "data": {
      "text/plain": [
       "'ushuaia'"
      ]
     },
     "execution_count": 133,
     "metadata": {},
     "output_type": "execute_result"
    }
   ],
   "source": [
    "# for testing generate one city name\n",
    "lat_long = lats_longs_list[0]\n",
    "\n",
    "citipy.nearest_city(lat_long[0], lat_long[1]).city_name\n"
   ]
  },
  {
   "cell_type": "markdown",
   "metadata": {},
   "source": [
    "## Generate Cities List"
   ]
  },
  {
   "cell_type": "code",
   "execution_count": 134,
   "metadata": {},
   "outputs": [],
   "source": [
    "# # # generate emply list for cities\n",
    "# cities = []\n",
    "# # find nearest city from each lat and long\n",
    "# for lat_long in lats_longs_list:\n",
    "#     city_name = citipy.nearest_city(lat_long[0], lat_long[1]).city_name\n",
    "# # if city is unique then added it to the cities list\n",
    "#     if city_name not in cities:\n",
    "#         cities.append(city_name)\n",
    "# # count number of citiies\n",
    "# len(cities)\n",
    "\n",
    "    \n"
   ]
  },
  {
   "cell_type": "markdown",
   "metadata": {},
   "source": [
    "### Perform API Calls\n",
    "* Perform a weather check on each city using a series of successive API calls.\n",
    "* Include a print log of each city as it'sbeing processed (with the city number and city name).\n"
   ]
  },
  {
   "cell_type": "code",
   "execution_count": 135,
   "metadata": {
    "scrolled": true
   },
   "outputs": [
    {
     "name": "stdout",
     "output_type": "stream",
     "text": [
      "Start of Records\n",
      "------------------------\n",
      "Processing Record 1 of set 39 | ushuaia\n",
      "Processing Record 2 of set 39 | bathsheba\n",
      "Processing Record 3 of set 39 | komsomolskiy\n",
      "Processing Record 4 of set 39 | colac\n",
      "Processing Record 5 of set 39 | broome\n",
      "Processing Record 6 of set 39 | busselton\n",
      "Processing Record 7 of set 39 | new norfolk\n",
      "Processing Record 8 of set 39 | nemuro\n",
      "Processing Record 9 of set 39 | bredasdorp\n",
      "Processing Record 10 of set 39 | paamiut\n",
      "Processing Record 11 of set 39 | makakilo city\n",
      "Processing Record 12 of set 39 | east london\n",
      "Processing Record 13 of set 39 | jamestown\n",
      "Processing Record 14 of set 39 | esperance\n",
      "Processing Record 15 of set 39 | prado\n",
      "Processing Record 16 of set 39 | lompoc\n",
      "Processing Record 17 of set 39 | fairbanks\n",
      "Processing Record 18 of set 39 | thompson\n",
      "Processing Record 19 of set 39 | norman wells\n",
      "Processing Record 20 of set 39 | vaini\n",
      "City not found\n",
      "Processing Record 21 of set 39 | khatanga\n",
      "Processing Record 22 of set 39 | hobart\n",
      "Processing Record 23 of set 39 | bengkulu\n",
      "Processing Record 24 of set 39 | constitucion\n",
      "Processing Record 25 of set 39 | cabedelo\n",
      "City not found\n",
      "Processing Record 26 of set 39 | albany\n",
      "Processing Record 27 of set 39 | upernavik\n",
      "Processing Record 28 of set 39 | kapaa\n",
      "Processing Record 29 of set 39 | oum hadjer\n",
      "Processing Record 30 of set 39 | lebu\n",
      "Processing Record 31 of set 39 | mount gambier\n",
      "Processing Record 32 of set 39 | royan\n",
      "Processing Record 33 of set 39 | kaitangata\n",
      "Processing Record 34 of set 39 | avarua\n",
      "Processing Record 35 of set 39 | rikitea\n",
      "Processing Record 36 of set 39 | nagar karnul\n",
      "Processing Record 37 of set 39 | leirvik\n",
      "End of Records\n",
      "------------------------\n"
     ]
    }
   ],
   "source": [
    "print('Start of Records')\n",
    "print('------------------------')\n",
    "\n",
    "# # generate emply list for cities\n",
    "cities = []\n",
    "# find nearest city from each lat and long\n",
    "for lat_long in lats_longs_list:\n",
    "    city_name = citipy.nearest_city(lat_long[0], lat_long[1]).city_name\n",
    "# if city is unique then added it to the cities list\n",
    "    if city_name not in cities:\n",
    "        cities.append(city_name)\n",
    "# count number of citiies\n",
    "# len(cities)\n",
    "\n",
    "\n",
    "# create the url to call for API\n",
    "base_url = \"https://api.openweathermap.org/data/2.5/weather?\"\n",
    "units = \"imperial\"\n",
    "city_url = f\"{base_url}appid={weather_api_key}&units={units}&q=\"\n",
    "\n",
    "# create list to hold all the required items:\n",
    "city_name_list = []\n",
    "country_list = []\n",
    "lat_list = []\n",
    "long_list = []\n",
    "temp = []\n",
    "max_temp = []\n",
    "humid = []\n",
    "clouds = []\n",
    "wind = []\n",
    "\n",
    "# initiate counter for city number\n",
    "number = 1\n",
    "# loop thru the list of cities and permorm for data on each.\n",
    "for city_name in cities:\n",
    "    try:\n",
    "        response = requests.get(city_url + city_name).json()\n",
    "        city_name_list.append(response['name'])\n",
    "        lat_list.append(response['coord']['lat'])\n",
    "        long_list.append(response['coord']['lon'])\n",
    "        temp.append(response['main']['temp'])\n",
    "        max_temp.append(response['main']['temp_max'])\n",
    "        humid.append(response['main']['humidity'])\n",
    "        clouds.append(response['clouds']['all'])\n",
    "        wind.append(response['wind']['speed'])\n",
    "        print(f\"Processing Record {number} of set {len(cities)} | {city_name}\")\n",
    "        number = number + 1\n",
    "    \n",
    "#     except KeyError:\n",
    "    except:\n",
    "        print(f\"City not found\")\n",
    "    continue\n",
    "#         print(f\"City not found {number} of {len(cities)}. | Skipping {city_name}\")\n",
    "#         number = number + 1\n",
    "\n",
    "print('End of Records')\n",
    "print('------------------------')\n"
   ]
  },
  {
   "cell_type": "code",
   "execution_count": 136,
   "metadata": {},
   "outputs": [
    {
     "name": "stdout",
     "output_type": "stream",
     "text": [
      "https://api.openweathermap.org/data/2.5/weather?appid=87ac0f45fbc8d9105aaa68d3781039eb&units=imperial&q=\n"
     ]
    }
   ],
   "source": [
    "print(city_url)"
   ]
  },
  {
   "cell_type": "code",
   "execution_count": 137,
   "metadata": {},
   "outputs": [
    {
     "data": {
      "text/html": [
       "<div>\n",
       "<style scoped>\n",
       "    .dataframe tbody tr th:only-of-type {\n",
       "        vertical-align: middle;\n",
       "    }\n",
       "\n",
       "    .dataframe tbody tr th {\n",
       "        vertical-align: top;\n",
       "    }\n",
       "\n",
       "    .dataframe thead th {\n",
       "        text-align: right;\n",
       "    }\n",
       "</style>\n",
       "<table border=\"1\" class=\"dataframe\">\n",
       "  <thead>\n",
       "    <tr style=\"text-align: right;\">\n",
       "      <th></th>\n",
       "      <th>City</th>\n",
       "      <th>Latitude</th>\n",
       "      <th>Longtude</th>\n",
       "      <th>Temperature</th>\n",
       "      <th>Max Temperature</th>\n",
       "      <th>Humidity</th>\n",
       "      <th>Clouds</th>\n",
       "      <th>Wind Speed</th>\n",
       "    </tr>\n",
       "  </thead>\n",
       "  <tbody>\n",
       "    <tr>\n",
       "      <th>0</th>\n",
       "      <td>Ushuaia</td>\n",
       "      <td>-54.8000</td>\n",
       "      <td>-68.3000</td>\n",
       "      <td>35.26</td>\n",
       "      <td>35.26</td>\n",
       "      <td>69</td>\n",
       "      <td>75</td>\n",
       "      <td>13.80</td>\n",
       "    </tr>\n",
       "    <tr>\n",
       "      <th>1</th>\n",
       "      <td>Bathsheba</td>\n",
       "      <td>13.2167</td>\n",
       "      <td>-59.5167</td>\n",
       "      <td>84.81</td>\n",
       "      <td>84.81</td>\n",
       "      <td>74</td>\n",
       "      <td>40</td>\n",
       "      <td>19.57</td>\n",
       "    </tr>\n",
       "    <tr>\n",
       "      <th>2</th>\n",
       "      <td>Yangi Marg`ilon</td>\n",
       "      <td>40.4272</td>\n",
       "      <td>71.7189</td>\n",
       "      <td>72.32</td>\n",
       "      <td>72.32</td>\n",
       "      <td>60</td>\n",
       "      <td>75</td>\n",
       "      <td>13.80</td>\n",
       "    </tr>\n",
       "    <tr>\n",
       "      <th>3</th>\n",
       "      <td>Colac</td>\n",
       "      <td>-38.3333</td>\n",
       "      <td>143.5833</td>\n",
       "      <td>43.43</td>\n",
       "      <td>46.62</td>\n",
       "      <td>92</td>\n",
       "      <td>28</td>\n",
       "      <td>4.12</td>\n",
       "    </tr>\n",
       "    <tr>\n",
       "      <th>4</th>\n",
       "      <td>Broome</td>\n",
       "      <td>42.2506</td>\n",
       "      <td>-75.8330</td>\n",
       "      <td>82.54</td>\n",
       "      <td>85.19</td>\n",
       "      <td>66</td>\n",
       "      <td>40</td>\n",
       "      <td>1.99</td>\n",
       "    </tr>\n",
       "    <tr>\n",
       "      <th>5</th>\n",
       "      <td>Busselton</td>\n",
       "      <td>-33.6500</td>\n",
       "      <td>115.3333</td>\n",
       "      <td>53.04</td>\n",
       "      <td>53.10</td>\n",
       "      <td>93</td>\n",
       "      <td>100</td>\n",
       "      <td>12.33</td>\n",
       "    </tr>\n",
       "    <tr>\n",
       "      <th>6</th>\n",
       "      <td>New Norfolk</td>\n",
       "      <td>-42.7826</td>\n",
       "      <td>147.0587</td>\n",
       "      <td>41.43</td>\n",
       "      <td>45.88</td>\n",
       "      <td>78</td>\n",
       "      <td>68</td>\n",
       "      <td>1.01</td>\n",
       "    </tr>\n",
       "    <tr>\n",
       "      <th>7</th>\n",
       "      <td>Nemuro</td>\n",
       "      <td>43.3236</td>\n",
       "      <td>145.5750</td>\n",
       "      <td>59.88</td>\n",
       "      <td>59.88</td>\n",
       "      <td>96</td>\n",
       "      <td>98</td>\n",
       "      <td>8.84</td>\n",
       "    </tr>\n",
       "    <tr>\n",
       "      <th>8</th>\n",
       "      <td>Bredasdorp</td>\n",
       "      <td>-34.5322</td>\n",
       "      <td>20.0403</td>\n",
       "      <td>45.72</td>\n",
       "      <td>45.72</td>\n",
       "      <td>81</td>\n",
       "      <td>31</td>\n",
       "      <td>10.36</td>\n",
       "    </tr>\n",
       "    <tr>\n",
       "      <th>9</th>\n",
       "      <td>Paamiut</td>\n",
       "      <td>61.9940</td>\n",
       "      <td>-49.6678</td>\n",
       "      <td>42.10</td>\n",
       "      <td>42.10</td>\n",
       "      <td>97</td>\n",
       "      <td>100</td>\n",
       "      <td>4.07</td>\n",
       "    </tr>\n",
       "    <tr>\n",
       "      <th>10</th>\n",
       "      <td>Makakilo City</td>\n",
       "      <td>21.3469</td>\n",
       "      <td>-158.0858</td>\n",
       "      <td>82.04</td>\n",
       "      <td>84.52</td>\n",
       "      <td>57</td>\n",
       "      <td>1</td>\n",
       "      <td>11.50</td>\n",
       "    </tr>\n",
       "    <tr>\n",
       "      <th>11</th>\n",
       "      <td>East London</td>\n",
       "      <td>-33.0153</td>\n",
       "      <td>27.9116</td>\n",
       "      <td>57.83</td>\n",
       "      <td>57.83</td>\n",
       "      <td>74</td>\n",
       "      <td>100</td>\n",
       "      <td>22.17</td>\n",
       "    </tr>\n",
       "    <tr>\n",
       "      <th>12</th>\n",
       "      <td>Jamestown</td>\n",
       "      <td>42.0970</td>\n",
       "      <td>-79.2353</td>\n",
       "      <td>79.79</td>\n",
       "      <td>83.52</td>\n",
       "      <td>57</td>\n",
       "      <td>20</td>\n",
       "      <td>9.22</td>\n",
       "    </tr>\n",
       "    <tr>\n",
       "      <th>13</th>\n",
       "      <td>Esperance</td>\n",
       "      <td>-33.8667</td>\n",
       "      <td>121.9000</td>\n",
       "      <td>55.24</td>\n",
       "      <td>55.24</td>\n",
       "      <td>92</td>\n",
       "      <td>100</td>\n",
       "      <td>17.85</td>\n",
       "    </tr>\n",
       "    <tr>\n",
       "      <th>14</th>\n",
       "      <td>Prado</td>\n",
       "      <td>-17.3411</td>\n",
       "      <td>-39.2208</td>\n",
       "      <td>71.38</td>\n",
       "      <td>71.38</td>\n",
       "      <td>70</td>\n",
       "      <td>100</td>\n",
       "      <td>13.94</td>\n",
       "    </tr>\n",
       "    <tr>\n",
       "      <th>15</th>\n",
       "      <td>Lompoc</td>\n",
       "      <td>34.6391</td>\n",
       "      <td>-120.4579</td>\n",
       "      <td>75.58</td>\n",
       "      <td>95.68</td>\n",
       "      <td>64</td>\n",
       "      <td>1</td>\n",
       "      <td>17.27</td>\n",
       "    </tr>\n",
       "    <tr>\n",
       "      <th>16</th>\n",
       "      <td>Fairbanks</td>\n",
       "      <td>64.8378</td>\n",
       "      <td>-147.7164</td>\n",
       "      <td>79.93</td>\n",
       "      <td>83.61</td>\n",
       "      <td>42</td>\n",
       "      <td>1</td>\n",
       "      <td>1.01</td>\n",
       "    </tr>\n",
       "    <tr>\n",
       "      <th>17</th>\n",
       "      <td>Thompson</td>\n",
       "      <td>55.7435</td>\n",
       "      <td>-97.8558</td>\n",
       "      <td>73.56</td>\n",
       "      <td>73.56</td>\n",
       "      <td>35</td>\n",
       "      <td>20</td>\n",
       "      <td>4.61</td>\n",
       "    </tr>\n",
       "    <tr>\n",
       "      <th>18</th>\n",
       "      <td>Norman Wells</td>\n",
       "      <td>65.2820</td>\n",
       "      <td>-126.8329</td>\n",
       "      <td>77.04</td>\n",
       "      <td>77.04</td>\n",
       "      <td>47</td>\n",
       "      <td>20</td>\n",
       "      <td>17.27</td>\n",
       "    </tr>\n",
       "    <tr>\n",
       "      <th>19</th>\n",
       "      <td>Vaini</td>\n",
       "      <td>-21.2000</td>\n",
       "      <td>-175.2000</td>\n",
       "      <td>75.36</td>\n",
       "      <td>75.36</td>\n",
       "      <td>94</td>\n",
       "      <td>20</td>\n",
       "      <td>4.61</td>\n",
       "    </tr>\n",
       "    <tr>\n",
       "      <th>20</th>\n",
       "      <td>Khatanga</td>\n",
       "      <td>71.9667</td>\n",
       "      <td>102.5000</td>\n",
       "      <td>54.99</td>\n",
       "      <td>54.99</td>\n",
       "      <td>82</td>\n",
       "      <td>100</td>\n",
       "      <td>6.78</td>\n",
       "    </tr>\n",
       "    <tr>\n",
       "      <th>21</th>\n",
       "      <td>Hobart</td>\n",
       "      <td>-42.8794</td>\n",
       "      <td>147.3294</td>\n",
       "      <td>42.62</td>\n",
       "      <td>43.05</td>\n",
       "      <td>78</td>\n",
       "      <td>20</td>\n",
       "      <td>5.01</td>\n",
       "    </tr>\n",
       "    <tr>\n",
       "      <th>22</th>\n",
       "      <td>Bengkulu</td>\n",
       "      <td>-3.8004</td>\n",
       "      <td>102.2655</td>\n",
       "      <td>74.75</td>\n",
       "      <td>74.75</td>\n",
       "      <td>90</td>\n",
       "      <td>48</td>\n",
       "      <td>3.71</td>\n",
       "    </tr>\n",
       "    <tr>\n",
       "      <th>23</th>\n",
       "      <td>Constitución</td>\n",
       "      <td>-35.3333</td>\n",
       "      <td>-72.4167</td>\n",
       "      <td>60.66</td>\n",
       "      <td>60.66</td>\n",
       "      <td>71</td>\n",
       "      <td>74</td>\n",
       "      <td>10.83</td>\n",
       "    </tr>\n",
       "    <tr>\n",
       "      <th>24</th>\n",
       "      <td>Cabedelo</td>\n",
       "      <td>-6.9811</td>\n",
       "      <td>-34.8339</td>\n",
       "      <td>79.47</td>\n",
       "      <td>79.47</td>\n",
       "      <td>81</td>\n",
       "      <td>25</td>\n",
       "      <td>11.74</td>\n",
       "    </tr>\n",
       "    <tr>\n",
       "      <th>25</th>\n",
       "      <td>Albany</td>\n",
       "      <td>42.6001</td>\n",
       "      <td>-73.9662</td>\n",
       "      <td>82.76</td>\n",
       "      <td>87.03</td>\n",
       "      <td>66</td>\n",
       "      <td>35</td>\n",
       "      <td>1.01</td>\n",
       "    </tr>\n",
       "    <tr>\n",
       "      <th>26</th>\n",
       "      <td>Upernavik</td>\n",
       "      <td>72.7868</td>\n",
       "      <td>-56.1549</td>\n",
       "      <td>40.53</td>\n",
       "      <td>40.53</td>\n",
       "      <td>90</td>\n",
       "      <td>100</td>\n",
       "      <td>7.25</td>\n",
       "    </tr>\n",
       "    <tr>\n",
       "      <th>27</th>\n",
       "      <td>Kapaa</td>\n",
       "      <td>22.0752</td>\n",
       "      <td>-159.3190</td>\n",
       "      <td>80.17</td>\n",
       "      <td>82.38</td>\n",
       "      <td>77</td>\n",
       "      <td>75</td>\n",
       "      <td>7.00</td>\n",
       "    </tr>\n",
       "    <tr>\n",
       "      <th>28</th>\n",
       "      <td>Umm Hājar</td>\n",
       "      <td>13.2954</td>\n",
       "      <td>19.6966</td>\n",
       "      <td>83.62</td>\n",
       "      <td>83.62</td>\n",
       "      <td>57</td>\n",
       "      <td>98</td>\n",
       "      <td>5.30</td>\n",
       "    </tr>\n",
       "    <tr>\n",
       "      <th>29</th>\n",
       "      <td>Lebu</td>\n",
       "      <td>-37.6167</td>\n",
       "      <td>-73.6500</td>\n",
       "      <td>54.43</td>\n",
       "      <td>54.43</td>\n",
       "      <td>91</td>\n",
       "      <td>100</td>\n",
       "      <td>10.65</td>\n",
       "    </tr>\n",
       "    <tr>\n",
       "      <th>30</th>\n",
       "      <td>Mount Gambier</td>\n",
       "      <td>-37.8333</td>\n",
       "      <td>140.7667</td>\n",
       "      <td>40.91</td>\n",
       "      <td>40.91</td>\n",
       "      <td>100</td>\n",
       "      <td>75</td>\n",
       "      <td>5.75</td>\n",
       "    </tr>\n",
       "    <tr>\n",
       "      <th>31</th>\n",
       "      <td>Royan</td>\n",
       "      <td>45.6285</td>\n",
       "      <td>-1.0281</td>\n",
       "      <td>77.90</td>\n",
       "      <td>82.44</td>\n",
       "      <td>57</td>\n",
       "      <td>94</td>\n",
       "      <td>10.87</td>\n",
       "    </tr>\n",
       "    <tr>\n",
       "      <th>32</th>\n",
       "      <td>Kaitangata</td>\n",
       "      <td>-46.2817</td>\n",
       "      <td>169.8464</td>\n",
       "      <td>37.92</td>\n",
       "      <td>37.92</td>\n",
       "      <td>77</td>\n",
       "      <td>84</td>\n",
       "      <td>4.70</td>\n",
       "    </tr>\n",
       "    <tr>\n",
       "      <th>33</th>\n",
       "      <td>Avarua</td>\n",
       "      <td>-21.2078</td>\n",
       "      <td>-159.7750</td>\n",
       "      <td>80.65</td>\n",
       "      <td>80.65</td>\n",
       "      <td>83</td>\n",
       "      <td>20</td>\n",
       "      <td>17.27</td>\n",
       "    </tr>\n",
       "    <tr>\n",
       "      <th>34</th>\n",
       "      <td>Rikitea</td>\n",
       "      <td>-23.1203</td>\n",
       "      <td>-134.9692</td>\n",
       "      <td>71.33</td>\n",
       "      <td>71.33</td>\n",
       "      <td>67</td>\n",
       "      <td>100</td>\n",
       "      <td>24.79</td>\n",
       "    </tr>\n",
       "    <tr>\n",
       "      <th>35</th>\n",
       "      <td>Nāgar Karnūl</td>\n",
       "      <td>16.4821</td>\n",
       "      <td>78.3247</td>\n",
       "      <td>74.70</td>\n",
       "      <td>74.70</td>\n",
       "      <td>84</td>\n",
       "      <td>100</td>\n",
       "      <td>17.81</td>\n",
       "    </tr>\n",
       "    <tr>\n",
       "      <th>36</th>\n",
       "      <td>Leirvik</td>\n",
       "      <td>59.7798</td>\n",
       "      <td>5.5005</td>\n",
       "      <td>57.61</td>\n",
       "      <td>59.63</td>\n",
       "      <td>83</td>\n",
       "      <td>14</td>\n",
       "      <td>15.66</td>\n",
       "    </tr>\n",
       "  </tbody>\n",
       "</table>\n",
       "</div>"
      ],
      "text/plain": [
       "               City  Latitude  Longtude  Temperature  Max Temperature  \\\n",
       "0           Ushuaia  -54.8000  -68.3000        35.26            35.26   \n",
       "1         Bathsheba   13.2167  -59.5167        84.81            84.81   \n",
       "2   Yangi Marg`ilon   40.4272   71.7189        72.32            72.32   \n",
       "3             Colac  -38.3333  143.5833        43.43            46.62   \n",
       "4            Broome   42.2506  -75.8330        82.54            85.19   \n",
       "5         Busselton  -33.6500  115.3333        53.04            53.10   \n",
       "6       New Norfolk  -42.7826  147.0587        41.43            45.88   \n",
       "7            Nemuro   43.3236  145.5750        59.88            59.88   \n",
       "8        Bredasdorp  -34.5322   20.0403        45.72            45.72   \n",
       "9           Paamiut   61.9940  -49.6678        42.10            42.10   \n",
       "10    Makakilo City   21.3469 -158.0858        82.04            84.52   \n",
       "11      East London  -33.0153   27.9116        57.83            57.83   \n",
       "12        Jamestown   42.0970  -79.2353        79.79            83.52   \n",
       "13        Esperance  -33.8667  121.9000        55.24            55.24   \n",
       "14            Prado  -17.3411  -39.2208        71.38            71.38   \n",
       "15           Lompoc   34.6391 -120.4579        75.58            95.68   \n",
       "16        Fairbanks   64.8378 -147.7164        79.93            83.61   \n",
       "17         Thompson   55.7435  -97.8558        73.56            73.56   \n",
       "18     Norman Wells   65.2820 -126.8329        77.04            77.04   \n",
       "19            Vaini  -21.2000 -175.2000        75.36            75.36   \n",
       "20         Khatanga   71.9667  102.5000        54.99            54.99   \n",
       "21           Hobart  -42.8794  147.3294        42.62            43.05   \n",
       "22         Bengkulu   -3.8004  102.2655        74.75            74.75   \n",
       "23     Constitución  -35.3333  -72.4167        60.66            60.66   \n",
       "24         Cabedelo   -6.9811  -34.8339        79.47            79.47   \n",
       "25           Albany   42.6001  -73.9662        82.76            87.03   \n",
       "26        Upernavik   72.7868  -56.1549        40.53            40.53   \n",
       "27            Kapaa   22.0752 -159.3190        80.17            82.38   \n",
       "28        Umm Hājar   13.2954   19.6966        83.62            83.62   \n",
       "29             Lebu  -37.6167  -73.6500        54.43            54.43   \n",
       "30    Mount Gambier  -37.8333  140.7667        40.91            40.91   \n",
       "31            Royan   45.6285   -1.0281        77.90            82.44   \n",
       "32       Kaitangata  -46.2817  169.8464        37.92            37.92   \n",
       "33           Avarua  -21.2078 -159.7750        80.65            80.65   \n",
       "34          Rikitea  -23.1203 -134.9692        71.33            71.33   \n",
       "35     Nāgar Karnūl   16.4821   78.3247        74.70            74.70   \n",
       "36          Leirvik   59.7798    5.5005        57.61            59.63   \n",
       "\n",
       "    Humidity  Clouds  Wind Speed  \n",
       "0         69      75       13.80  \n",
       "1         74      40       19.57  \n",
       "2         60      75       13.80  \n",
       "3         92      28        4.12  \n",
       "4         66      40        1.99  \n",
       "5         93     100       12.33  \n",
       "6         78      68        1.01  \n",
       "7         96      98        8.84  \n",
       "8         81      31       10.36  \n",
       "9         97     100        4.07  \n",
       "10        57       1       11.50  \n",
       "11        74     100       22.17  \n",
       "12        57      20        9.22  \n",
       "13        92     100       17.85  \n",
       "14        70     100       13.94  \n",
       "15        64       1       17.27  \n",
       "16        42       1        1.01  \n",
       "17        35      20        4.61  \n",
       "18        47      20       17.27  \n",
       "19        94      20        4.61  \n",
       "20        82     100        6.78  \n",
       "21        78      20        5.01  \n",
       "22        90      48        3.71  \n",
       "23        71      74       10.83  \n",
       "24        81      25       11.74  \n",
       "25        66      35        1.01  \n",
       "26        90     100        7.25  \n",
       "27        77      75        7.00  \n",
       "28        57      98        5.30  \n",
       "29        91     100       10.65  \n",
       "30       100      75        5.75  \n",
       "31        57      94       10.87  \n",
       "32        77      84        4.70  \n",
       "33        83      20       17.27  \n",
       "34        67     100       24.79  \n",
       "35        84     100       17.81  \n",
       "36        83      14       15.66  "
      ]
     },
     "execution_count": 137,
     "metadata": {},
     "output_type": "execute_result"
    }
   ],
   "source": [
    "# create DataFrame with the items:\n",
    "city_data_df = pd.DataFrame({'City': city_name_list,\n",
    "                             'Latitude': lat_list,\n",
    "                             'Longtude': long_list,\n",
    "                             'Temperature': temp,\n",
    "                             'Max Temperature': max_temp,\n",
    "                             'Humidity': humid,\n",
    "                             'Clouds': clouds,\n",
    "                             'Wind Speed': wind\n",
    "    \n",
    "})\n",
    "city_data_df\n"
   ]
  },
  {
   "cell_type": "markdown",
   "metadata": {},
   "source": [
    "### Convert Raw Data to DataFrame\n",
    "* Export the city data into a .csv.\n",
    "* Display the DataFrame"
   ]
  },
  {
   "cell_type": "code",
   "execution_count": 138,
   "metadata": {},
   "outputs": [],
   "source": [
    "# save the DataFrame as csv\n",
    "city_data_df.to_csv(\"weather_data.csv\", index = False)"
   ]
  },
  {
   "cell_type": "code",
   "execution_count": 139,
   "metadata": {},
   "outputs": [
    {
     "data": {
      "text/html": [
       "<div>\n",
       "<style scoped>\n",
       "    .dataframe tbody tr th:only-of-type {\n",
       "        vertical-align: middle;\n",
       "    }\n",
       "\n",
       "    .dataframe tbody tr th {\n",
       "        vertical-align: top;\n",
       "    }\n",
       "\n",
       "    .dataframe thead th {\n",
       "        text-align: right;\n",
       "    }\n",
       "</style>\n",
       "<table border=\"1\" class=\"dataframe\">\n",
       "  <thead>\n",
       "    <tr style=\"text-align: right;\">\n",
       "      <th></th>\n",
       "      <th>City</th>\n",
       "      <th>Latitude</th>\n",
       "      <th>Longtude</th>\n",
       "      <th>Temperature</th>\n",
       "      <th>Max Temperature</th>\n",
       "      <th>Humidity</th>\n",
       "      <th>Clouds</th>\n",
       "      <th>Wind Speed</th>\n",
       "    </tr>\n",
       "  </thead>\n",
       "  <tbody>\n",
       "  </tbody>\n",
       "</table>\n",
       "</div>"
      ],
      "text/plain": [
       "Empty DataFrame\n",
       "Columns: [City, Latitude, Longtude, Temperature, Max Temperature, Humidity, Clouds, Wind Speed]\n",
       "Index: []"
      ]
     },
     "execution_count": 139,
     "metadata": {},
     "output_type": "execute_result"
    }
   ],
   "source": [
    "# check the DataFrame for cities that have Humidity above 100\n",
    "humidity_100 = city_data_df[city_data_df[\"Humidity\"]>100]\n",
    "humidity_100"
   ]
  },
  {
   "cell_type": "markdown",
   "metadata": {},
   "source": [
    "## Inspect the data and remove the cities where the humidity > 100%.\n",
    "----\n",
    "Skip this step if there are no cities that have humidity > 100%. "
   ]
  },
  {
   "cell_type": "code",
   "execution_count": null,
   "metadata": {},
   "outputs": [],
   "source": []
  },
  {
   "cell_type": "code",
   "execution_count": 140,
   "metadata": {},
   "outputs": [],
   "source": [
    "#  Get the indices of cities that have humidity over 100%.\n"
   ]
  },
  {
   "cell_type": "code",
   "execution_count": 141,
   "metadata": {},
   "outputs": [],
   "source": [
    "# Make a new DataFrame equal to the city data to drop all humidity outliers by index.\n",
    "# Passing \"inplace=False\" will make a copy of the city_data DataFrame, which we call \"clean_city_data\".\n"
   ]
  },
  {
   "cell_type": "code",
   "execution_count": null,
   "metadata": {},
   "outputs": [],
   "source": [
    "\n"
   ]
  },
  {
   "cell_type": "markdown",
   "metadata": {},
   "source": [
    "## Plotting the Data\n",
    "* Use proper labeling of the plots using plot titles (including date of analysis) and axes labels.\n",
    "* Save the plotted figures as .pngs."
   ]
  },
  {
   "cell_type": "markdown",
   "metadata": {},
   "source": [
    "## Latitude vs. Temperature Plot"
   ]
  },
  {
   "cell_type": "code",
   "execution_count": 142,
   "metadata": {
    "scrolled": true
   },
   "outputs": [
    {
     "data": {
      "image/png": "[encoded data removed]",
      "text/plain": [
       "<Figure size 432x288 with 1 Axes>"
      ]
     },
     "metadata": {
      "needs_background": "light"
     },
     "output_type": "display_data"
    }
   ],
   "source": [
    "# plot Latitude vs. Temp plot - of course we will use scatter plot\n",
    "plt.scatter(city_data_df['Latitude'], city_data_df['Temperature'], marker=\"o\")\n",
    "\n",
    "plt.title(\"Temperature in World Cities\")\n",
    "plt.ylabel('Temperature (F)')\n",
    "plt.xlabel('Latitude')\n",
    "\n",
    "plt.show()"
   ]
  },
  {
   "cell_type": "markdown",
   "metadata": {},
   "source": [
    "## Latitude vs. Humidity Plot"
   ]
  },
  {
   "cell_type": "code",
   "execution_count": 143,
   "metadata": {},
   "outputs": [
    {
     "data": {
      "image/png": "[encoded data removed]",
      "text/plain": [
       "<Figure size 432x288 with 1 Axes>"
      ]
     },
     "metadata": {
      "needs_background": "light"
     },
     "output_type": "display_data"
    }
   ],
   "source": [
    "# plot Latitude vs. Humidity plot - of course we will use scatter plot\n",
    "plt.scatter(city_data_df['Latitude'], city_data_df['Humidity'], marker=\"o\")\n",
    "\n",
    "plt.title(\"Humidity in World Cities\")\n",
    "plt.ylabel('Humidity')\n",
    "plt.xlabel('Latitude')\n",
    "\n",
    "plt.show()"
   ]
  },
  {
   "cell_type": "markdown",
   "metadata": {},
   "source": [
    "## Latitude vs. Cloudiness Plot"
   ]
  },
  {
   "cell_type": "code",
   "execution_count": 144,
   "metadata": {},
   "outputs": [
    {
     "data": {
      "image/png": "[encoded data removed]",
      "text/plain": [
       "<Figure size 432x288 with 1 Axes>"
      ]
     },
     "metadata": {
      "needs_background": "light"
     },
     "output_type": "display_data"
    }
   ],
   "source": [
    "# plot Latitude vs. Cloudiness plot - of course we will use scatter plot\n",
    "plt.scatter(city_data_df['Latitude'], city_data_df['Clouds'], marker=\"o\")\n",
    "\n",
    "plt.title(\"Cloudiness in World Cities\")\n",
    "plt.ylabel('Clouds')\n",
    "plt.xlabel('Latitude')\n",
    "\n",
    "plt.show()"
   ]
  },
  {
   "cell_type": "markdown",
   "metadata": {},
   "source": [
    "## Latitude vs. Wind Speed Plot"
   ]
  },
  {
   "cell_type": "code",
   "execution_count": 153,
   "metadata": {},
   "outputs": [
    {
     "data": {
      "image/png": "[encoded data removed]",
      "text/plain": [
       "<Figure size 432x288 with 1 Axes>"
      ]
     },
     "metadata": {
      "needs_background": "light"
     },
     "output_type": "display_data"
    }
   ],
   "source": [
    "# plot Latitude vs. Cloudiness plot - of course we will use scatter plot\n",
    "plt.scatter(city_data_df['Latitude'], city_data_df['Wind Speed'], facecolor = \"steelblue\", edgecolor = \"black\")\n",
    "\n",
    "plt.title(\"Wind Speed in World Cities\")\n",
    "plt.ylabel('Wind Speed')\n",
    "plt.xlabel('Latitude')\n",
    "\n",
    "plt.show()"
   ]
  },
  {
   "cell_type": "markdown",
   "metadata": {},
   "source": [
    "## Linear Regression"
   ]
  },
  {
   "cell_type": "code",
   "execution_count": 146,
   "metadata": {},
   "outputs": [],
   "source": [
    "# create Northern and Southern Hemisphere DF\n",
    "northern_hem = city_data_df.loc[city_data_df[\"Latitude\"] >= 0]\n",
    "sothern_hem = city_data_df.loc[city_data_df[\"Longtude\"] <= 0]"
   ]
  },
  {
   "cell_type": "markdown",
   "metadata": {},
   "source": [
    "####  Northern Hemisphere - Max Temp vs. Latitude Linear Regression"
   ]
  },
  {
   "cell_type": "code",
   "execution_count": 1,
   "metadata": {},
   "outputs": [
    {
     "ename": "NameError",
     "evalue": "name 'city_data_df' is not defined",
     "output_type": "error",
     "traceback": [
      "\u001b[1;31m---------------------------------------------------------------------------\u001b[0m",
      "\u001b[1;31mNameError\u001b[0m                                 Traceback (most recent call last)",
      "\u001b[1;32m<ipython-input-1-8905b3874895>\u001b[0m in \u001b[0;36m<module>\u001b[1;34m\u001b[0m\n\u001b[0;32m      1\u001b[0m \u001b[1;31m# Add the Linear regression\u001b[0m\u001b[1;33m\u001b[0m\u001b[1;33m\u001b[0m\u001b[1;33m\u001b[0m\u001b[0m\n\u001b[1;32m----> 2\u001b[1;33m \u001b[0mx_values\u001b[0m \u001b[1;33m=\u001b[0m \u001b[0mcity_data_df\u001b[0m\u001b[1;33m[\u001b[0m\u001b[1;34m\"Latitude\"\u001b[0m\u001b[1;33m]\u001b[0m\u001b[1;33m\u001b[0m\u001b[1;33m\u001b[0m\u001b[0m\n\u001b[0m\u001b[0;32m      3\u001b[0m \u001b[0my_values\u001b[0m \u001b[1;33m=\u001b[0m \u001b[0mcity_data_df\u001b[0m\u001b[1;33m[\u001b[0m\u001b[1;34m\"Max Temperature\"\u001b[0m\u001b[1;33m]\u001b[0m\u001b[1;33m\u001b[0m\u001b[1;33m\u001b[0m\u001b[0m\n\u001b[0;32m      4\u001b[0m \u001b[0mplt\u001b[0m\u001b[1;33m.\u001b[0m\u001b[0mscatter\u001b[0m\u001b[1;33m(\u001b[0m\u001b[0mx_values\u001b[0m\u001b[1;33m,\u001b[0m\u001b[0my_values\u001b[0m\u001b[1;33m)\u001b[0m\u001b[1;33m\u001b[0m\u001b[1;33m\u001b[0m\u001b[0m\n\u001b[0;32m      5\u001b[0m \u001b[0mplt\u001b[0m\u001b[1;33m.\u001b[0m\u001b[0mplot\u001b[0m\u001b[1;33m(\u001b[0m\u001b[0mx_values\u001b[0m\u001b[1;33m,\u001b[0m\u001b[0mregress_values\u001b[0m\u001b[1;33m,\u001b[0m \u001b[1;34m\"r-\"\u001b[0m\u001b[1;33m)\u001b[0m\u001b[1;33m\u001b[0m\u001b[1;33m\u001b[0m\u001b[0m\n",
      "\u001b[1;31mNameError\u001b[0m: name 'city_data_df' is not defined"
     ]
    }
   ],
   "source": [
    "# Add the Linear regression\n",
    "x_values = city_data_df[\"Latitude\"]\n",
    "y_values = city_data_df[\"Max Temperature\"]\n",
    "(slope, intercept, rvalue, pvalue, stderr) = linregress(x_values, y_values)\n",
    "regress_values = x_values * slope + intercept\n",
    "line_eq = \"y = \" + str(round(slope,2)) + \"x + \" + str(round(intercept,2))\n",
    "plt.scatter(x_values,y_values)\n",
    "plt.plot(x_values,regress_values, \"r-\")\n",
    "plt.annotate(line_eq, (6,10), fontsize=15,color=\"red\")\n",
    "plt.xlabel(\"Latitude\")\n",
    "plt.ylabel(\"Max Temperature\")\n",
    "plt.show()\n"
   ]
  },
  {
   "cell_type": "code",
   "execution_count": null,
   "metadata": {},
   "outputs": [],
   "source": [
    "(slope, intercept, rvalue, pvalue, stderr) = linregress(x_values, y_values)\n",
    "regress_values = x_values * slope + intercept\n",
    "line_eq = \"y = \" + str(round(slope,2)) + \"x + \" + str(round(intercept,2))"
   ]
  },
  {
   "cell_type": "markdown",
   "metadata": {},
   "source": [
    "####  Southern Hemisphere - Max Temp vs. Latitude Linear Regression"
   ]
  },
  {
   "cell_type": "code",
   "execution_count": null,
   "metadata": {},
   "outputs": [],
   "source": []
  },
  {
   "cell_type": "markdown",
   "metadata": {},
   "source": [
    "####  Northern Hemisphere - Humidity (%) vs. Latitude Linear Regression"
   ]
  },
  {
   "cell_type": "code",
   "execution_count": null,
   "metadata": {},
   "outputs": [],
   "source": []
  },
  {
   "cell_type": "markdown",
   "metadata": {},
   "source": [
    "####  Southern Hemisphere - Humidity (%) vs. Latitude Linear Regression"
   ]
  },
  {
   "cell_type": "code",
   "execution_count": null,
   "metadata": {},
   "outputs": [],
   "source": []
  },
  {
   "cell_type": "markdown",
   "metadata": {},
   "source": [
    "####  Northern Hemisphere - Cloudiness (%) vs. Latitude Linear Regression"
   ]
  },
  {
   "cell_type": "code",
   "execution_count": null,
   "metadata": {},
   "outputs": [],
   "source": []
  },
  {
   "cell_type": "markdown",
   "metadata": {},
   "source": [
    "####  Southern Hemisphere - Cloudiness (%) vs. Latitude Linear Regression"
   ]
  },
  {
   "cell_type": "code",
   "execution_count": null,
   "metadata": {},
   "outputs": [],
   "source": []
  },
  {
   "cell_type": "markdown",
   "metadata": {},
   "source": [
    "####  Northern Hemisphere - Wind Speed (mph) vs. Latitude Linear Regression"
   ]
  },
  {
   "cell_type": "code",
   "execution_count": null,
   "metadata": {},
   "outputs": [],
   "source": []
  },
  {
   "cell_type": "markdown",
   "metadata": {},
   "source": [
    "####  Southern Hemisphere - Wind Speed (mph) vs. Latitude Linear Regression"
   ]
  },
  {
   "cell_type": "code",
   "execution_count": null,
   "metadata": {},
   "outputs": [],
   "source": []
  },
  {
   "cell_type": "code",
   "execution_count": null,
   "metadata": {},
   "outputs": [],
   "source": []
  }
 ],
 "metadata": {
  "anaconda-cloud": {},
  "kernel_info": {
   "name": "python3"
  },
  "kernelspec": {
   "display_name": "Python 3",
   "language": "python",
   "name": "python3"
  },
  "language_info": {
   "codemirror_mode": {
    "name": "ipython",
    "version": 3
   },
   "file_extension": ".py",
   "mimetype": "text/x-python",
   "name": "python",
   "nbconvert_exporter": "python",
   "pygments_lexer": "ipython3",
   "version": "3.8.8"
  },
  "latex_envs": {
   "LaTeX_envs_menu_present": true,
   "autoclose": false,
   "autocomplete": true,
   "bibliofile": "biblio.bib",
   "cite_by": "apalike",
   "current_citInitial": 1,
   "eqLabelWithNumbers": true,
   "eqNumInitial": 1,
   "hotkeys": {
    "equation": "Ctrl-E",
    "itemize": "Ctrl-I"
   },
   "labels_anchors": false,
   "latex_user_defs": false,
   "report_style_numbering": false,
   "user_envs_cfg": false
  },
  "nteract": {
   "version": "0.12.3"
  }
 },
 "nbformat": 4,
 "nbformat_minor": 2
}
